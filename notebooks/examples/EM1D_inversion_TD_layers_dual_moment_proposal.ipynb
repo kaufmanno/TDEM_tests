{
 "cells": [
  {
   "cell_type": "code",
   "execution_count": 1,
   "metadata": {},
   "outputs": [],
   "source": [
    "from SimPEG import maps as Maps\n",
    "#from SimPEG import utils as Utils\n",
    "#from SimPEG import simulation as Problem\n",
    "#from SimPEG import props as Props\n",
    "# from SimPEG import models as Models\n",
    "# from SimPEG import survey as Survey\n",
    "# from SimPEG import regularization as Regularization\n",
    "# from SimPEG import data_misfit as DataMisfit\n",
    "# from SimPEG import inverse_problem as InvProblem\n",
    "# from SimPEG import optimization as Optimization\n",
    "# from SimPEG import directives as Directives\n",
    "# from SimPEG import inversion as Inversion\n",
    "from simpegEM1D import EM1D, EM1DSurveyTD, Utils1D, get_vertical_discretization_time, set_mesh_1d, piecewise_pulse\n",
    "import numpy as np"
   ]
  },
  {
   "cell_type": "code",
   "execution_count": 6,
   "metadata": {},
   "outputs": [],
   "source": [
    "from simpegEM1D import skytem_HM_2015, skytem_LM_2015\n",
    "wave_HM = skytem_HM_2015()\n",
    "wave_LM = skytem_LM_2015()\n",
    "time_HM = wave_HM.time_gate_center\n",
    "time_LM = wave_LM.time_gate_center\n",
    "def get_problem_survey(hz):\n",
    "    mesh1D = set_mesh_1d(hz)\n",
    "    depth = -mesh1D.gridN[:-1]\n",
    "    LocSigZ = -mesh1D.gridCC\n",
    "    expmap = Maps.ExpMap(mesh1D)    \n",
    "    \n",
    "    time_input_currents_HM = wave_HM.current_times[-7:]\n",
    "    input_currents_HM = wave_HM.currents[-7:]\n",
    "    time_input_currents_LM = wave_LM.current_times[-13:]\n",
    "    input_currents_LM = wave_LM.currents[-13:]\n",
    "\n",
    "    TDsurvey = EM1DSurveyTD(\n",
    "        rx_location = np.array([0., 0., 100.+30.]),\n",
    "        src_location = np.array([0., 0., 100.+30.]),\n",
    "        topo = np.r_[0., 0., 100.],\n",
    "        depth = depth,\n",
    "        rx_type = 'dBzdt',\n",
    "        wave_type = 'general',\n",
    "        src_type = 'CircularLoop',\n",
    "        a = 13.,\n",
    "        I = 1.,\n",
    "        time = time_HM,\n",
    "        time_input_currents=time_input_currents_HM,\n",
    "        input_currents=input_currents_HM,\n",
    "        n_pulse = 2,\n",
    "        base_frequency = 25.,\n",
    "        use_lowpass_filter=True,\n",
    "        high_cut_frequency=210*1e3,\n",
    "        moment_type='dual',\n",
    "        time_dual_moment = time_HM,    \n",
    "        time_input_currents_dual_moment=time_input_currents_LM,\n",
    "        input_currents_dual_moment=input_currents_LM,\n",
    "        base_frequency_dual_moment=210,    \n",
    "    )\n",
    "    \n",
    "    prob = EM1D(mesh1D, sigmaMap=expmap, verbose=False)\n",
    "#    if prob.ispaired:\n",
    "#        prob.unpair()\n",
    "#    if TDsurvey.ispaired:\n",
    "#        TDsurvey.unpair()\n",
    "#    prob.pair(TDsurvey)\n",
    "    prob.survey = TDsurvey\n",
    "#    TDsurvey.pair(prob)\n",
    "    prob.chi = np.zeros(TDsurvey.n_layer)\n",
    "    return TDsurvey, prob"
   ]
  },
  {
   "cell_type": "code",
   "execution_count": 7,
   "metadata": {},
   "outputs": [],
   "source": [
    "hz = np.r_[100, 30, 180, 1000.]\n",
    "sig = np.r_[1./50, 1./5, 1./30, 1./1.]\n",
    "mesh1D = set_mesh_1d(hz)\n",
    "depth = -mesh1D.gridN[:-1]\n",
    "LocSigZ = -mesh1D.gridCC"
   ]
  },
  {
   "cell_type": "code",
   "execution_count": 8,
   "metadata": {},
   "outputs": [
    {
     "data": {
      "text/plain": [
       "array([ 100.,   30.,  180., 1000.])"
      ]
     },
     "execution_count": 8,
     "metadata": {},
     "output_type": "execute_result"
    }
   ],
   "source": [
    "hz"
   ]
  },
  {
   "cell_type": "code",
   "execution_count": 10,
   "metadata": {},
   "outputs": [
    {
     "name": "stdout",
     "output_type": "stream",
     "text": [
      "{'sigmaMap': <SimPEG.maps.ExpMap object at 0x7f3fd0a0c160>, 'verbose': False}\n"
     ]
    },
    {
     "ename": "AttributeError",
     "evalue": "'EM1DSurveyTD' object has no attribute 'pair'",
     "output_type": "error",
     "traceback": [
      "\u001b[0;31m---------------------------------------------------------------------------\u001b[0m",
      "\u001b[0;31mAttributeError\u001b[0m                            Traceback (most recent call last)",
      "Cell \u001b[0;32mIn[10], line 6\u001b[0m\n\u001b[1;32m      4\u001b[0m m_true \u001b[38;5;241m=\u001b[39m np\u001b[38;5;241m.\u001b[39mlog(sig)\n\u001b[1;32m      5\u001b[0m std \u001b[38;5;241m=\u001b[39m \u001b[38;5;241m0.05\u001b[39m\n\u001b[0;32m----> 6\u001b[0m \u001b[43mTDsurvey\u001b[49m\u001b[38;5;241;43m.\u001b[39;49m\u001b[43mpair\u001b[49m(prob)\n\u001b[1;32m      7\u001b[0m dtrue \u001b[38;5;241m=\u001b[39m TDsurvey\u001b[38;5;241m.\u001b[39mdpred(m_true)\n\u001b[1;32m      8\u001b[0m np\u001b[38;5;241m.\u001b[39mrandom\u001b[38;5;241m.\u001b[39mseed(\u001b[38;5;241m1\u001b[39m)\n",
      "\u001b[0;31mAttributeError\u001b[0m: 'EM1DSurveyTD' object has no attribute 'pair'"
     ]
    }
   ],
   "source": [
    "TDsurvey, prob = get_problem_survey(hz)\n",
    "sig_half = 1./50.\n",
    "chi_half = 0.\n",
    "m_true = np.log(sig)\n",
    "std = 0.05\n",
    "TDsurvey.pair(prob)\n",
    "dtrue = TDsurvey.dpred(m_true)\n",
    "np.random.seed(1)\n",
    "noise = std*abs(dtrue)*np.random.randn(*dtrue.shape)\n",
    "dobs = dtrue+noise"
   ]
  },
  {
   "cell_type": "code",
   "execution_count": null,
   "metadata": {},
   "outputs": [],
   "source": [
    "import matplotlib\n",
    "matplotlib.rcParams['font.size'] = 14"
   ]
  },
  {
   "cell_type": "code",
   "execution_count": null,
   "metadata": {},
   "outputs": [],
   "source": [
    "fig, ax = subplots(1,1, figsize=(4, 5))\n",
    "Utils1D.plotLayer(1./sig, mesh1D, showlayers=False, ax=ax)\n",
    "ax.set_xlabel(\"Resistivity ($\\Omega$m)\")\n",
    "plt.tight_layout()\n",
    "fig.savefig('resistivity', dpi=200)\n",
    "ax.set_xlim(0.5, 100)\n",
    "ax.set_ylim(-600, 0)"
   ]
  },
  {
   "cell_type": "code",
   "execution_count": null,
   "metadata": {},
   "outputs": [],
   "source": [
    "fig, axes = subplots(1,1, figsize = (6,4))\n",
    "axes.plot(TDsurvey.time, -dobs[:TDsurvey.n_time], '-', lw=2)\n",
    "axes.plot(TDsurvey.time_dual_moment, -dobs[TDsurvey.n_time:], '-', lw=2)\n",
    "axes.set_xscale('log');\n",
    "axes.set_yscale('log');\n",
    "plt.legend((\"HM\", \"LM\"))\n",
    "plt.xlabel(\"Time (s)\")\n",
    "plt.ylabel(\"SkyTEM data (V/A-m$^2$)\")\n",
    "plt.tight_layout()\n",
    "fig.savefig('skytem_data', dpi=200)"
   ]
  },
  {
   "cell_type": "code",
   "execution_count": null,
   "metadata": {},
   "outputs": [],
   "source": [
    "# std = 0.05\n",
    "# prob.getJ(m_true)\n",
    "# prob.depth_of_investigation_christiansen_2012(std, thres_hold=0.8)"
   ]
  },
  {
   "cell_type": "code",
   "execution_count": null,
   "metadata": {},
   "outputs": [],
   "source": [
    "IRLS = Directives.Update_IRLS(\n",
    "        maxIRLSiter=40, minGNiter=1, fix_Jmatrix=True, coolingRate=1, coolingFactor=2, betaSearch=False,\n",
    "        chifact_start = 1.\n",
    "    )"
   ]
  },
  {
   "cell_type": "code",
   "execution_count": null,
   "metadata": {},
   "outputs": [],
   "source": [
    "def run_inversion(m0, dobs, std, floor, is_sparse=True):\n",
    "    hz = get_vertical_discretization_time(\n",
    "        np.unique(np.r_[time_HM, time_LM]), facter_tmax=0.5, factor_tmin=10., n_layer=30\n",
    "    )    \n",
    "    mesh1D = set_mesh_1d(hz)\n",
    "    TDsurvey, prob = get_problem_survey(hz)\n",
    "    TDsurvey.dobs = dobs.copy()\n",
    "    uncert = abs(TDsurvey.dobs)*std+floor\n",
    "    dmisfit = DataMisfit.l2_DataMisfit(TDsurvey)\n",
    "    dmisfit.W = 1./ uncert\n",
    "    \n",
    "    \n",
    "    if is_sparse:\n",
    "        reg = Regularization.Sparse(\n",
    "            mesh1D,\n",
    "            mapping=Maps.IdentityMap(mesh1D),\n",
    "            alpha_s=1.,\n",
    "            alpha_x=1.,\n",
    "        )\n",
    "        p = 0\n",
    "        qx, qz = 1., 1.\n",
    "        reg.norms = np.c_[p, qx, qz, 0.]\n",
    "        IRLS = Directives.Update_IRLS(\n",
    "            maxIRLSiter=40, minGNiter=1, fix_Jmatrix=True, coolingRate=1, coolingFactor=5, betaSearch=False,\n",
    "            chifact_start = 1.,\n",
    "            f_min_change = 1e-3\n",
    "        )        \n",
    "    else:\n",
    "        reg = Regularization.Tikhonov(\n",
    "            mesh1D,\n",
    "            mapping=Maps.IdentityMap(mesh1D),\n",
    "            alpha_s=1.,\n",
    "            alpha_x=0.05,\n",
    "        )        \n",
    "    opt = Optimization.ProjectedGNCG(maxIter = 40)\n",
    "    invProb = InvProblem.BaseInvProblem(dmisfit, reg, opt)\n",
    "    beta = Directives.BetaSchedule(coolingFactor=2., coolingRate=1)\n",
    "    betaest = Directives.BetaEstimate_ByEig(beta0_ratio=10**1.5)\n",
    "    target = Directives.TargetMisfit()\n",
    "    save = Directives.SaveOutputEveryIteration()\n",
    "    if is_sparse:\n",
    "        directiveList=[IRLS, betaest]\n",
    "    else:\n",
    "        directiveList=[beta, betaest, target]\n",
    "    \n",
    "    inv = Inversion.BaseInversion(invProb, directiveList=directiveList)\n",
    "    prob.counter = opt.counter = Utils.Counter()\n",
    "    opt.LSshorten = 0.5\n",
    "    opt.remember('xc')\n",
    "    mopt = inv.run(m0)\n",
    "    return mopt, invProb"
   ]
  },
  {
   "cell_type": "code",
   "execution_count": null,
   "metadata": {
    "scrolled": false
   },
   "outputs": [],
   "source": [
    "%%time\n",
    "m0 = np.log(np.ones(30)*1./50)\n",
    "mopt, invProb = run_inversion(m0, dobs, 0.1, 0., is_sparse=False)"
   ]
  },
  {
   "cell_type": "code",
   "execution_count": null,
   "metadata": {},
   "outputs": [],
   "source": [
    "m0_1 = np.log(np.ones(30)*1./30)\n",
    "mopt_1, invProb_1 = run_inversion(m0_1, dobs, 0.1, 0., is_sparse=False)"
   ]
  },
  {
   "cell_type": "code",
   "execution_count": null,
   "metadata": {},
   "outputs": [],
   "source": [
    "def compute_doi_index_oldenburg_and_li_1999(m1, m2, m1r, m2r):\n",
    "    r = abs((m1-m2) / (m1r-m2r))\n",
    "    r[r>0.99] = 1.\n",
    "    return r"
   ]
  },
  {
   "cell_type": "code",
   "execution_count": null,
   "metadata": {},
   "outputs": [],
   "source": [
    "# fig, ax = subplots(1,1, figsize=(4, 5))\n",
    "# Utils1D.plotLayer(1./sig, mesh1D, showlayers=False, ax=ax)\n",
    "# Utils1D.plotLayer(1./(expmap*invProb.l2model), mesh1D, showlayers=False, **{'color':'r', 'lw':3})\n",
    "# ax.set_xlabel(\"Resistivity ($\\Omega$m)\")\n",
    "# ax.set_xlim(0.5, 300)\n",
    "# plt.tight_layout()\n",
    "# fig.savefig('resistivity_l2', dpi=200)"
   ]
  },
  {
   "cell_type": "code",
   "execution_count": null,
   "metadata": {},
   "outputs": [],
   "source": [
    "mesh1D_inv = invProb.dmisfit.prob.mesh"
   ]
  },
  {
   "cell_type": "code",
   "execution_count": null,
   "metadata": {},
   "outputs": [],
   "source": [
    "# fig, ax = subplots(1,1, figsize=(4, 5))\n",
    "# Utils1D.plotLayer(1./sig, mesh1D, showlayers=False, ax=ax)\n",
    "# Utils1D.plotLayer(1./(np.log(mopt)), mesh1D_inv, showlayers=False, **{'color':'r', 'lw':3})\n",
    "# ax.set_xlabel(\"Resistivity ($\\Omega$m)\")\n",
    "# ax.set_xlim(0.5, 300)\n",
    "# ax.set_ylim(-600, 0)\n",
    "# plt.tight_layout()\n",
    "# fig.savefig('resistivity_l2', dpi=200)\n"
   ]
  },
  {
   "cell_type": "code",
   "execution_count": null,
   "metadata": {},
   "outputs": [],
   "source": [
    "fig, ax = subplots(1,1, figsize=(4, 5))\n",
    "Utils1D.plotLayer(1./(np.exp(mopt_1)), mesh1D_inv, showlayers=False, **{'color':'b', 'lw':3})\n",
    "Utils1D.plotLayer(1./(np.exp(mopt)), mesh1D_inv, showlayers=False, **{'color':'r', 'lw':3})\n",
    "Utils1D.plotLayer(1./sig, mesh1D, showlayers=False, ax=ax)\n",
    "ax.set_xlabel(\"Resistivity ($\\Omega$m)\")\n",
    "ax.set_xlim(0.5, 300)\n",
    "ax.set_ylim(-600, 0)\n",
    "plt.tight_layout()\n",
    "ax.legend((\"$m_{ref}$=30 $\\Omega$m\", \"$m_{ref}$=50 $\\Omega$m\"), bbox_to_anchor=(1,1))\n",
    "\n",
    "fig.savefig('resistivity_l2_compare', dpi=200)\n"
   ]
  },
  {
   "cell_type": "code",
   "execution_count": null,
   "metadata": {
    "scrolled": false
   },
   "outputs": [],
   "source": [
    "m0 = np.log(np.ones(30)*1./50)\n",
    "mopt_sparse, invProb_sparse = run_inversion(m0, dobs, 0.1, 0., is_sparse=True)"
   ]
  },
  {
   "cell_type": "code",
   "execution_count": null,
   "metadata": {},
   "outputs": [],
   "source": [
    "m0_1 = np.log(np.ones(30)*1./30)\n",
    "mopt_sparse_1, invProb_sparse_1 = run_inversion(m0_1, dobs, 0.1, 0., is_sparse=True)"
   ]
  },
  {
   "cell_type": "code",
   "execution_count": null,
   "metadata": {},
   "outputs": [],
   "source": [
    "# fig, ax = subplots(1,1, figsize=(4, 5))\n",
    "# Utils1D.plotLayer(1./sig, mesh1D, showlayers=False, ax=ax)\n",
    "# Utils1D.plotLayer(1./(expmap*mopt_sparse), mesh1D_inv, showlayers=False, **{'color':'r', 'lw':3})\n",
    "# ax.set_xlabel(\"Resistivity ($\\Omega$m)\")\n",
    "# ax.set_xlim(0.5, 300)\n",
    "# ax.set_ylim(-600, 0)\n",
    "# plt.tight_layout()\n",
    "# fig.savefig('resistivity_l0', dpi=200)\n"
   ]
  },
  {
   "cell_type": "code",
   "execution_count": null,
   "metadata": {},
   "outputs": [],
   "source": [
    "fig, ax = subplots(1,1, figsize=(4, 5))\n",
    "Utils1D.plotLayer(1./sig, mesh1D, showlayers=False, ax=ax)\n",
    "Utils1D.plotLayer(1./(np.exp(mopt_sparse_1)), mesh1D_inv, showlayers=False, **{'color':'r', 'lw':3})\n",
    "ax.set_xlabel(\"Resistivity ($\\Omega$m)\")\n",
    "ax.set_xlim(0.5, 300)\n",
    "ax.set_ylim(-600, 0)\n",
    "plt.tight_layout()\n",
    "fig.savefig('resistivity_l0', dpi=200)\n"
   ]
  },
  {
   "cell_type": "code",
   "execution_count": null,
   "metadata": {},
   "outputs": [],
   "source": [
    "fig, ax = subplots(1,1, figsize=(4, 5))\n",
    "Utils1D.plotLayer(1./(np.exp(mopt_sparse_1)), mesh1D_inv, showlayers=False, **{'color':'b', 'lw':3})\n",
    "Utils1D.plotLayer(1./(np.exp(mopt_sparse)), mesh1D_inv, showlayers=False, **{'color':'r', 'lw':3})\n",
    "# ax.legend((\"$m_{ref}$=30 $\\Omega$m\", \"$m_{ref}$=50 $\\Omega$m\"), bbox_to_anchor=(1,1))\n",
    "Utils1D.plotLayer(1./sig, mesh1D, showlayers=False, ax=ax)\n",
    "ax.set_xlabel(\"Resistivity ($\\Omega$m)\")\n",
    "ax.set_xlim(0.5, 300)\n",
    "ax.set_ylim(-600, 0)\n",
    "plt.tight_layout()\n",
    "fig.savefig('resistivity_l0_compare', dpi=200)\n"
   ]
  },
  {
   "cell_type": "code",
   "execution_count": null,
   "metadata": {},
   "outputs": [],
   "source": [
    "fig, ax = subplots(1,1, figsize=(4, 5))\n",
    "doi = compute_doi_index_oldenburg_and_li_1999(mopt, mopt_1, m0, m0_1)\n",
    "Utils1D.plotLayer(doi, mesh1D_inv, showlayers=False, xscale='linear', ax=ax)\n",
    "# Utils1D.plotLayer(doi_sparse, mesh1D_inv, showlayers=False, xscale='linear', **{'linestyle':'--', 'color':'k'})\n",
    "ax.set_xticks(np.arange(20)*0.1, minor=True)\n",
    "ax.set_xlabel(\"DOI index\")\n",
    "# ax.legend((\"L2\", \"L0\"))\n",
    "ax.set_ylim(-600, 0)\n",
    "plt.tight_layout()\n",
    "fig.savefig('doi_index', dpi=200)"
   ]
  },
  {
   "cell_type": "code",
   "execution_count": null,
   "metadata": {},
   "outputs": [],
   "source": [
    "majorLocator = MultipleLocator(20)\n",
    "majorFormatter = FormatStrFormatter('%d')\n",
    "minorLocator = MultipleLocator(5)\n",
    "ax.xaxis.set_major_locator(majorLocator)\n",
    "ax.xaxis.set_major_formatter(majorFormatter)\n",
    "# for the minor ticks, use no labels; default NullFormatter\n",
    "ax.xaxis.set_minor_locator(minorLocator)"
   ]
  },
  {
   "cell_type": "code",
   "execution_count": null,
   "metadata": {},
   "outputs": [],
   "source": [
    "doi_sparse = compute_doi_index_oldenburg_and_li_1999(mopt_sparse, mopt_sparse_1, m0, m0_1)"
   ]
  },
  {
   "cell_type": "code",
   "execution_count": null,
   "metadata": {},
   "outputs": [],
   "source": [
    "doi_sparse"
   ]
  },
  {
   "cell_type": "code",
   "execution_count": null,
   "metadata": {},
   "outputs": [],
   "source": [
    "fig, axes = subplots(1,1, figsize = (7,5))\n",
    "axes.plot(TDsurvey.time, -invProb.dpred[:TDsurvey.n_time], 'x')\n",
    "axes.plot(TDsurvey.time_dual_moment, -invProb.dpred[TDsurvey.n_time:], 'x')\n",
    "axes.plot(TDsurvey.time, -dobs[:TDsurvey.n_time])\n",
    "axes.plot(TDsurvey.time_dual_moment, -dobs[TDsurvey.n_time:])\n",
    "\n",
    "axes.set_xscale('log');\n",
    "axes.set_yscale('log');"
   ]
  }
 ],
 "metadata": {
  "kernelspec": {
   "display_name": "Python 3 (ipykernel)",
   "language": "python",
   "name": "python3"
  },
  "language_info": {
   "codemirror_mode": {
    "name": "ipython",
    "version": 3
   },
   "file_extension": ".py",
   "mimetype": "text/x-python",
   "name": "python",
   "nbconvert_exporter": "python",
   "pygments_lexer": "ipython3",
   "version": "3.9.7"
  }
 },
 "nbformat": 4,
 "nbformat_minor": 1
}
